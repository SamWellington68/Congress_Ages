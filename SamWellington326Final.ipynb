{
 "cells": [
  {
   "cell_type": "code",
   "execution_count": 2,
   "metadata": {},
   "outputs": [],
   "source": [
    "import sys\n",
    "import requests\n",
    "import json\n",
    "import matplotlib.pyplot as plt\n",
    "sessions = { \"102\": 1991, \"103\": 1993, \"104\": 1995, \"105\": 1997, \"106\": 1999,       \n",
    "            \"107\": 2001, \"108\": 2003, \"109\": 2005, \"110\": 2007, \"111\": 2009, \n",
    "            \"112\": 2011, \"113\": 2013, \"114\": 2015, \"115\": 2017, \"116\": 2019             }\n",
    "def get(url):\n",
    "    headers = {\"X-API-KEY\":\"r6ztzxBEjCPphsYoIkCfR3YDGPrPNzv8PGGwhfi7\"}\n",
    "    url = \"https://api.propublica.org/congress/v1\"+ url \n",
    "    data = requests.get(url, headers=headers).json()\n",
    "    return data['results']\n",
    "\n",
    "class Member():\n",
    "    def __init__(self,first_name,last_name,date_of_birth,gender,party):\n",
    "        self.first_name=first_name\n",
    "        self.last_name=last_name\n",
    "        self.date_of_birth=date_of_birth\n",
    "        self.gender=gender\n",
    "        self.party=party\n",
    "    def calculate_age(self,year):\n",
    "        YDM=self.date_of_birth.split(\"-\")\n",
    "        birthyear=int(YDM[0])\n",
    "        return(year-birthyear)\n",
    "    \n",
    "def member_ages(session_range):\n",
    "    nums=session_range.split(\"-\")\n",
    "    first=int(nums[0])\n",
    "    last=int(nums[1])\n",
    "    avg_dem=[]\n",
    "    avg_republican=[]\n",
    "    avg_house=[]\n",
    "    avg_senate=[]\n",
    "    avg_male=[]        \n",
    "    avg_female=[]\n",
    "    SessionNumbers=range(first,last+1)\n",
    "    for sesh in range(first,last+1):\n",
    "        dem=[]\n",
    "        republican=[]\n",
    "        house=[]\n",
    "        senate=[]\n",
    "        male=[]\n",
    "        female=[]\n",
    "        for chamber in(\"house\",\"senate\"):\n",
    "            response=get(f\"/{sesh}/{chamber}/members.json\")\n",
    "            for i in response[0][\"members\"]:\n",
    "                member=Member(i[\"first_name\"],i[\"last_name\"],i[\"date_of_birth\"],i[\"gender\"],i[\"party\"])\n",
    "                kay=str(sesh)\n",
    "                year=sessions[kay]\n",
    "                member_age=member.calculate_age(year)\n",
    "                \n",
    "                if(member.party==\"D\"):\n",
    "                    dem.append(member_age)\n",
    "                if (member.party==\"R\"):\n",
    "                    republican.append(member_age)\n",
    "                    #republican.append(sum(republican)/len(republican))\n",
    "                if(chamber==\"house\"):\n",
    "                    house.append(member_age)\n",
    "                    #house.append(sum(house)/len(house))\n",
    "                if(chamber==\"senate\"):\n",
    "                    senate.append(member_age)\n",
    "                   # senate.append(sum(senate)/len(senate))\n",
    "                if(member.gender==\"M\"):\n",
    "                    male.append(member_age)\n",
    "                   # male.append(sum(male)/len(male))\n",
    "                if(member.gender==\"F\"):\n",
    "                    female.append(member_age)\n",
    "                   # female.append(sum(female)/len(female))\n",
    "        avg_dem.append(sum(dem)/len(dem))\n",
    "        avg_republican.append(sum(republican)/len(republican))\n",
    "        avg_house.append(sum(house)/len(house))\n",
    "        avg_senate.append(sum(senate)/len(senate))\n",
    "        avg_male.append(sum(male)/len(male))\n",
    "        avg_female.append(sum(female)/len(female))\n",
    "    SessionNumbers=range(first,last+1)\n",
    "    plt.plot(SessionNumbers,avg_dem, label =\"Democrat\")\n",
    "    plt.plot(SessionNumbers,avg_republican, label=\"Republican\")\n",
    "    plt.plot(SessionNumbers,avg_male, label=\"Male\")\n",
    "    plt.plot(SessionNumbers,avg_female, label=\"Female\")\n",
    "    plt.plot(SessionNumbers,avg_house,label=\"House\")\n",
    "    plt.plot(SessionNumbers,avg_senate,label=\"Senate\")\n",
    "    plt.ylabel(\"Age\")\n",
    "    plt.xlabel(\"Session of Congress\")\n",
    "    plt.title(\"Age of Congress people\")   \n",
    "    plt.legend()\n",
    "\n",
    "    \n",
    "    "
   ]
  },
  {
   "cell_type": "code",
   "execution_count": 3,
   "metadata": {},
   "outputs": [
    {
     "data": {
      "image/png": "[encoded data removed]",
      "text/plain": [
       "<Figure size 432x288 with 1 Axes>"
      ]
     },
     "metadata": {
      "needs_background": "light"
     },
     "output_type": "display_data"
    }
   ],
   "source": [
    "member_ages(\"112-114\")"
   ]
  },
  {
   "cell_type": "code",
   "execution_count": 12,
   "metadata": {},
   "outputs": [
    {
     "ename": "NameError",
     "evalue": "name 'url' is not defined",
     "output_type": "error",
     "traceback": [
      "\u001b[0;31m---------------------------------------------------------------------------\u001b[0m",
      "\u001b[0;31mNameError\u001b[0m                                 Traceback (most recent call last)",
      "\u001b[0;32m<ipython-input-12-519be5a41cb7>\u001b[0m in \u001b[0;36m<module>\u001b[0;34m\u001b[0m\n\u001b[0;32m----> 1\u001b[0;31m \u001b[0mget\u001b[0m\u001b[0;34m(\u001b[0m\u001b[0murl\u001b[0m\u001b[0;34m)\u001b[0m\u001b[0;34m\u001b[0m\u001b[0;34m\u001b[0m\u001b[0m\n\u001b[0m",
      "\u001b[0;31mNameError\u001b[0m: name 'url' is not defined"
     ]
    }
   ],
   "source": []
  },
  {
   "cell_type": "code",
   "execution_count": null,
   "metadata": {},
   "outputs": [],
   "source": []
  }
 ],
 "metadata": {
  "kernelspec": {
   "display_name": "Python 3",
   "language": "python",
   "name": "python3"
  },
  "language_info": {
   "codemirror_mode": {
    "name": "ipython",
    "version": 3
   },
   "file_extension": ".py",
   "mimetype": "text/x-python",
   "name": "python",
   "nbconvert_exporter": "python",
   "pygments_lexer": "ipython3",
   "version": "3.7.4"
  }
 },
 "nbformat": 4,
 "nbformat_minor": 2
}
